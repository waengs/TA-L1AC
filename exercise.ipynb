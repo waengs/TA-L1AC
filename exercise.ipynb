{
 "cells": [
  {
   "cell_type": "code",
   "execution_count": 29,
   "metadata": {},
   "outputs": [
    {
     "name": "stdout",
     "output_type": "stream",
     "text": [
      "Length of the first word: 8\n",
      "First Word: dynamite\n",
      "Length of the second word: 9\n",
      "Second Word: mitervine\n",
      "The longest subword linking both words is: 'mite'\n"
     ]
    }
   ],
   "source": [
    "def longest_subword(word1, word2):\n",
    "    longest_subword = \"\"\n",
    "    for i in range(len(word1)):\n",
    "        if word1[i:] == word2[:len(word1) - i]:\n",
    "            subword = word1[i:]\n",
    "            if len(subword) > len(longest_subword):\n",
    "                longest_subword = subword\n",
    "    return longest_subword if longest_subword else \"No subword found\"\n",
    "\n",
    "if __name__ == \"__main__\":\n",
    "    word1 = input(\"Enter the first word: \")\n",
    "    word2 = input(\"Enter the second word: \")\n",
    "    \n",
    "    print(f\"Length of the first word: {len(word1)}\")\n",
    "    print(f\"First Word: {word1}\")\n",
    "    print(f\"Length of the second word: {len(word2)}\")\n",
    "    print(f\"Second Word: {word2}\")\n",
    "\n",
    "    result = longest_subword(word1, word2)\n",
    "    print(f\"The longest subword linking both words is: '{result}'\")\n"
   ]
  },
  {
   "cell_type": "code",
   "execution_count": 27,
   "metadata": {},
   "outputs": [
    {
     "name": "stdout",
     "output_type": "stream",
     "text": [
      "The smallest beautiful number divisible by 259 is: 777\n"
     ]
    }
   ],
   "source": [
    "def beautiful(number):\n",
    "    num_str = str(number)\n",
    "    first = num_str[0]\n",
    "    for digit in num_str:\n",
    "        if digit != first or digit == '0':\n",
    "            return False\n",
    "    return True\n",
    "\n",
    "def smallnum(x):\n",
    "    multiple = x\n",
    "    while not beautiful(multiple):\n",
    "        multiple += x\n",
    "    return multiple\n",
    "\n",
    "def main():\n",
    "    try:\n",
    "        x = int(input(\"number (not divisible by 2 and 5): \"))\n",
    "        if x % 2 != 0 and x % 5 != 0:\n",
    "            result = smallnum(x)\n",
    "            print(f\"smallest beautiful number divisible by {x} is {result}\")\n",
    "        else:\n",
    "            print(\"Invalid, divisible by 2 and 5.\")\n",
    "    except ValueError:\n",
    "        print(\"Invalid input. Please enter a valid integer.\")\n",
    "\n",
    "if __name__ == \"__main__\":\n",
    "    main()"
   ]
  }
 ],
 "metadata": {
  "kernelspec": {
   "display_name": "Python 3",
   "language": "python",
   "name": "python3"
  },
  "language_info": {
   "codemirror_mode": {
    "name": "ipython",
    "version": 3
   },
   "file_extension": ".py",
   "mimetype": "text/x-python",
   "name": "python",
   "nbconvert_exporter": "python",
   "pygments_lexer": "ipython3",
   "version": "3.11.6"
  }
 },
 "nbformat": 4,
 "nbformat_minor": 2
}
